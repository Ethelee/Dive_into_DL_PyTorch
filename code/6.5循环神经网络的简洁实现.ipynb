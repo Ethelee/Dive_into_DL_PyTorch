{
 "cells": [
  {
   "cell_type": "markdown",
   "metadata": {},
   "source": [
    "# 6.5循环网络的简洁实现"
   ]
  },
  {
   "cell_type": "code",
   "execution_count": 1,
   "metadata": {},
   "outputs": [],
   "source": [
    "import torch\n",
    "import torch.nn as nn\n",
    "import time\n",
    "import math\n",
    "import sys\n",
    "sys.path.append(\".data/dive\")\n",
    "import d2lzh_pytorch as d2l\n",
    "(corpus_indices, char_to_idx, idx_to_char, vocab_size) = d2l.load_data_jay_lyrics()\n",
    "device = torch.device('cuda' if torch.cuda.is_available() else 'cpu')"
   ]
  },
  {
   "cell_type": "markdown",
   "metadata": {},
   "source": [
    "## 6.5.1定义模型"
   ]
  },
  {
   "cell_type": "code",
   "execution_count": 2,
   "metadata": {},
   "outputs": [],
   "source": [
    "num_hiddens = 256\n",
    "rnn_layer = nn.RNN(input_size=vocab_size, hidden_size=num_hiddens)\n",
    "# nn.RNN参数：\n",
    "# input_size：X的特征数\n",
    "# hidden_size：隐藏单元h的特征数\n",
    "# nonlinearity：tanh或者relu\n",
    "# batch_first：True：输入和输出为(batch_size,num_steps,input_size)\n",
    "# False：(num_steps, batch_size, input_size)\n",
    "\n",
    "# 前向传播不涉及输出层计算！\n",
    "# forward参数：\n",
    "# input：(num_steps, batch_size, input_size)\n",
    "# h_0：(num_layers * num_directions, batch_size, hidden_size)\n",
    "\n",
    "# forward返回值：\n",
    "# output：(num_steps, batch_size, num_directions * hidden_size)\n",
    "# h_n：(num_layers * num_directions, batch_size, hidden_size)\n",
    "# output：隐藏层在各个时间步上计算并输出的隐藏状态，作为后续输出层的输入\n",
    "# h_n：隐藏层在最后时间步的隐藏状态"
   ]
  },
  {
   "cell_type": "code",
   "execution_count": 3,
   "metadata": {
    "scrolled": true
   },
   "outputs": [
    {
     "name": "stdout",
     "output_type": "stream",
     "text": [
      "torch.Size([35, 2, 256]) torch.Size([1, 2, 256])\n"
     ]
    }
   ],
   "source": [
    "num_steps, batch_size = 35, 2\n",
    "X = torch.rand(num_steps, batch_size, vocab_size)\n",
    "state = None\n",
    "Y, state_new = rnn_layer(X, state) \n",
    "# Y.shape：(num_steps, batch_size, hidden_size)；state_new：(1[固定,层数],batch_size,hidden_size)\n",
    "print(Y.shape, state_new.shape)"
   ]
  },
  {
   "cell_type": "code",
   "execution_count": 4,
   "metadata": {},
   "outputs": [],
   "source": [
    "class RNNModel(nn.Module):\n",
    "    '''\n",
    "    将输入数据使用one-hot向量表示后输入daornn_layer，\n",
    "    使用全连接输出层得到输出\n",
    "    #output=vocab_size\n",
    "    '''\n",
    "    def __init__(self, rnn_layer, vocab_size):\n",
    "        '''\n",
    "        @rnn_layer：实例\n",
    "        '''\n",
    "        super(RNNModel, self).__init__()\n",
    "        self.rnn = rnn_layer\n",
    "        self.hidden_size = rnn_layer.hidden_size * (2 if rnn_layer.bidirectional else 1) \n",
    "        self.vocab_size = vocab_size\n",
    "        self.dense = nn.Linear(self.hidden_size, vocab_size) # 线性层作为输出层\n",
    "\n",
    "    def forward(self, inputs, state):\n",
    "        '''\n",
    "        inputs: (batch_size, num_steps)\n",
    "        '''\n",
    "        X = d2l.to_onehot(inputs, vocab_size) # 获取one-hot向量表示，长度为num_steps的列表\n",
    "        X = torch.stack(X)  # X.shape: (num_steps, batch_size, vocab_size)\n",
    "        hiddens, state = self.rnn(X, state)\n",
    "        hiddens = hiddens.view(-1, hiddens.shape[-1])  \n",
    "        # hiddens.shape: (num_steps * batch_size, hidden_size)\n",
    "        output = self.dense(hiddens) # output.shape:(num_steps*batch_size,vocab_size)\n",
    "        return output, state"
   ]
  },
  {
   "cell_type": "markdown",
   "metadata": {},
   "source": [
    "## 6.5.2训练模型"
   ]
  },
  {
   "cell_type": "code",
   "execution_count": 5,
   "metadata": {},
   "outputs": [],
   "source": [
    "def predict_rnn_pytorch(prefix, num_chars, model, vocab_size, device, idx_to_char,\n",
    "                      char_to_idx):\n",
    "    state = None\n",
    "    output = [char_to_idx[prefix[0]]]  # output记录prefix加上输出\n",
    "    for t in range(num_chars + len(prefix) - 1):\n",
    "        X = torch.tensor([output[-1]], device=device).view(1, 1)\n",
    "        (Y, state) = model(X, state)  # 前向计算不需要传入模型参数\n",
    "        if t < len(prefix) - 1:\n",
    "            output.append(char_to_idx[prefix[t + 1]])\n",
    "        else:\n",
    "            output.append(Y.argmax(dim=1).item())\n",
    "    return ''.join([idx_to_char[i] for i in output])"
   ]
  },
  {
   "cell_type": "code",
   "execution_count": 6,
   "metadata": {},
   "outputs": [
    {
     "data": {
      "text/plain": [
       "'分开田其亮卷漫卷漫卷漫卷'"
      ]
     },
     "execution_count": 6,
     "metadata": {},
     "output_type": "execute_result"
    }
   ],
   "source": [
    "model = RNNModel(rnn_layer, vocab_size).to(device)\n",
    "predict_rnn_pytorch('分开', 10, model, vocab_size, device, idx_to_char, char_to_idx)"
   ]
  },
  {
   "cell_type": "code",
   "execution_count": 7,
   "metadata": {},
   "outputs": [],
   "source": [
    "# 相邻采样读取数据\n",
    "def train_and_predict_rnn_pytorch(model, num_hiddens, vocab_size, device,\n",
    "                                corpus_indices, idx_to_char, char_to_idx,\n",
    "                                num_epochs, num_steps, lr, clipping_theta,\n",
    "                                batch_size, pred_period, pred_len, prefixes):\n",
    "    loss = nn.CrossEntropyLoss()\n",
    "    optimizer = torch.optim.Adam(model.parameters(), lr=lr)\n",
    "    model.to(device)\n",
    "    for epoch in range(num_epochs):\n",
    "        l_sum, n, start = 0.0, 0, time.time()\n",
    "        data_iter = d2l.data_iter_consecutive(corpus_indices, batch_size, num_steps, device) # 相邻采样\n",
    "        state = None\n",
    "        for X, Y in data_iter:\n",
    "            if state is not None:\n",
    "                # 使用detach函数从计算图分离隐藏状态\n",
    "                # 使模型参数的梯度计算只依赖一次迭代读取的小批量序列（防止梯度开销太大）\n",
    "                if isinstance (state, tuple): # LSTM.state:(h, c)  \n",
    "                    state[0].detach_()\n",
    "                    state[1].detach_()\n",
    "                else: \n",
    "                    state.detach_()\n",
    "            (output, state) = model(X, state) \n",
    "            # output.shape: (num_steps * batch_size, vocab_size)\n",
    "            # y.shape：(batch_size,num_steps)->batch_size*num_steps\n",
    "            y = torch.flatten(Y.T)\n",
    "            l = loss(output, y.long())\n",
    "            \n",
    "            optimizer.zero_grad()\n",
    "            l.backward()\n",
    "            grad_clipping(model.parameters(), clipping_theta, device)\n",
    "            optimizer.step()\n",
    "            l_sum += l.item() * y.shape[0]\n",
    "            n += y.shape[0]\n",
    "        \n",
    "\n",
    "        if (epoch + 1) % pred_period == 0:\n",
    "            print('epoch %d, perplexity %f, time %.2f sec' % (\n",
    "                epoch + 1, math.exp(l_sum / n), time.time() - start))\n",
    "            for prefix in prefixes:\n",
    "                print(' -', predict_rnn_pytorch(\n",
    "                    prefix, pred_len, model, vocab_size, device, idx_to_char,\n",
    "                    char_to_idx))"
   ]
  },
  {
   "cell_type": "code",
   "execution_count": null,
   "metadata": {},
   "outputs": [],
   "source": [
    "num_epochs, batch_size, lr, clipping_theta = 250, 32, 1e-3, 1e-2\n",
    "pred_period, pred_len, prefixes = 50, 50, ['分开', '不分开']\n",
    "train_and_predict_rnn_pytorch(model, num_hiddens, vocab_size, device,\n",
    "                            corpus_indices, idx_to_char, char_to_idx,\n",
    "                            num_epochs, num_steps, lr, clipping_theta,\n",
    "                            batch_size, pred_period, pred_len, prefixes)"
   ]
  }
 ],
 "metadata": {
  "kernelspec": {
   "display_name": "Python 3",
   "language": "python",
   "name": "python3"
  },
  "language_info": {
   "codemirror_mode": {
    "name": "ipython",
    "version": 3
   },
   "file_extension": ".py",
   "mimetype": "text/x-python",
   "name": "python",
   "nbconvert_exporter": "python",
   "pygments_lexer": "ipython3",
   "version": "3.7.3"
  }
 },
 "nbformat": 4,
 "nbformat_minor": 2
}
