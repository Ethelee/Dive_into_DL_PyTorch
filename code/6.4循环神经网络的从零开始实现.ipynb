{
 "cells": [
  {
   "cell_type": "markdown",
   "metadata": {},
   "source": [
    "# 6.4循环神经网络的从零开始实现"
   ]
  },
  {
   "cell_type": "code",
   "execution_count": 1,
   "metadata": {},
   "outputs": [],
   "source": [
    "import torch\n",
    "import torch.nn as nn\n",
    "import time\n",
    "import math\n",
    "import sys\n",
    "sys.path.append(\".data/dive\")\n",
    "import d2lzh_pytorch as d2l\n",
    "(corpus_indices, char_to_idx, idx_to_char, vocab_size) = d2l.load_data_jay_lyrics()\n",
    "device = torch.device('cuda' if torch.cuda.is_available() else 'cpu')"
   ]
  },
  {
   "cell_type": "markdown",
   "metadata": {},
   "source": [
    "## 6.4.1one-hot向量"
   ]
  },
  {
   "cell_type": "code",
   "execution_count": 2,
   "metadata": {},
   "outputs": [
    {
     "name": "stdout",
     "output_type": "stream",
     "text": [
      "tensor([[1., 0., 0.,  ..., 0., 0., 0.],\n",
      "        [0., 0., 1.,  ..., 0., 0., 0.]])\n",
      "torch.Size([2, 1027])\n",
      "tensor([1., 1.])\n"
     ]
    }
   ],
   "source": [
    "def one_hot(x, n_class, dtype=torch.float32):\n",
    "    '''\n",
    "    @x：一维向量，每个元素都是字符的索引\n",
    "    @n_class：词典的大小vocab_size\n",
    "    @dtype：返回向量类型\n",
    "    '''\n",
    "    result = torch.zeros(x.shape[0], n_class, dtype=dtype, device=x.device)  # shape: (n, n_class)\n",
    "    result.scatter_(1, x.long().view(-1, 1), 1)  \n",
    "    # result[i, x[i, 0]] = 1，根据x把result的每一行对应的位置改为1\n",
    "    # .scatter_(dim,index,src)：根据dim和index把src的元素重新分配\n",
    "    # dim=1：tensor.scatter_(1,index,scr):scr[i,j]=output[i,index[i,j]]\n",
    "    return result\n",
    "    \n",
    "x = torch.tensor([0, 2])\n",
    "x_one_hot = one_hot(x, vocab_size)\n",
    "print(x_one_hot)\n",
    "print(x_one_hot.shape)\n",
    "print(x_one_hot.sum(axis=1))"
   ]
  },
  {
   "cell_type": "code",
   "execution_count": 3,
   "metadata": {},
   "outputs": [
    {
     "name": "stdout",
     "output_type": "stream",
     "text": [
      "5 torch.Size([2, 1027])\n"
     ]
    }
   ],
   "source": [
    "def to_onehot(X, n_class):\n",
    "    '''\n",
    "    @X：每次采样的小批量，(batch_size,num_step)\n",
    "    @n_class：字典大小\n",
    "    '''\n",
    "    return [one_hot(X[:, i], n_class) for i in range(X.shape[1])]\n",
    "    # 每次取出X的一列，调用ont_hot函数，得到形状是(batch_size,vocab_size)的二维矩阵\n",
    "    # 列表长度为num_step\n",
    "\n",
    "X = torch.arange(10).view(2, 5)\n",
    "inputs = to_onehot(X, vocab_size)\n",
    "print(len(inputs), inputs[0].shape)"
   ]
  },
  {
   "cell_type": "markdown",
   "metadata": {},
   "source": [
    "## 6.4.2初始化模型参数"
   ]
  },
  {
   "cell_type": "code",
   "execution_count": 4,
   "metadata": {},
   "outputs": [],
   "source": [
    "num_inputs, num_hiddens, num_outputs = vocab_size, 256, vocab_size\n",
    "# num_inputs: d\n",
    "# num_hiddens: h, 隐藏单元的个数是超参数\n",
    "# num_outputs: q\n",
    "\n",
    "def get_params():\n",
    "    def _one(shape):\n",
    "        param = torch.zeros(shape, device=device, dtype=torch.float32)\n",
    "        nn.init.normal_(param, 0, 0.01)\n",
    "        return torch.nn.Parameter(param)\n",
    "\n",
    "    # 隐藏层参数\n",
    "    W_xh = _one((num_inputs, num_hiddens))\n",
    "    W_hh = _one((num_hiddens, num_hiddens))\n",
    "    b_h = torch.nn.Parameter(torch.zeros(num_hiddens, device=device))\n",
    "    # 输出层参数\n",
    "    W_hq = _one((num_hiddens, num_outputs))\n",
    "    b_q = torch.nn.Parameter(torch.zeros(num_outputs, device=device))\n",
    "    return (W_xh, W_hh, b_h, W_hq, b_q)"
   ]
  },
  {
   "cell_type": "markdown",
   "metadata": {},
   "source": [
    "## 6.4.3定义模型"
   ]
  },
  {
   "cell_type": "code",
   "execution_count": 5,
   "metadata": {},
   "outputs": [],
   "source": [
    "def init_rnn_state(batch_size, num_hiddens, device):\n",
    "    '''\n",
    "    返回初始化的隐藏状态，元组\n",
    "    @num_hiddens：隐藏单元个数，即h\n",
    "    '''\n",
    "    return (torch.zeros((batch_size, num_hiddens), device=device), )"
   ]
  },
  {
   "cell_type": "code",
   "execution_count": 6,
   "metadata": {},
   "outputs": [],
   "source": [
    "def rnn(inputs, state, params):\n",
    "    '''\n",
    "    定义在一个时间步里如何计算隐藏状态和输出\n",
    "    @inputs和outputs皆为num_steps个形状为(batch_size, vocab_size)的矩阵\n",
    "    @state：维护的状态的初始值，元组\n",
    "    @params：模型参数\n",
    "    '''\n",
    "    W_xh, W_hh, b_h, W_hq, b_q = params\n",
    "    H, = state\n",
    "    outputs = []\n",
    "    for X in inputs:\n",
    "        H = torch.tanh(torch.matmul(X, W_xh) + torch.matmul(H, W_hh) + b_h)\n",
    "        Y = torch.matmul(H, W_hq) + b_q\n",
    "        outputs.append(Y)\n",
    "    return outputs, (H,) # H可以用在相邻采样"
   ]
  },
  {
   "cell_type": "code",
   "execution_count": 7,
   "metadata": {
    "scrolled": true
   },
   "outputs": [
    {
     "name": "stdout",
     "output_type": "stream",
     "text": [
      "torch.Size([2, 5])\n",
      "256\n",
      "1027\n",
      "5 torch.Size([2, 1027])\n",
      "5 torch.Size([2, 1027])\n",
      "1 torch.Size([2, 256])\n",
      "1 torch.Size([2, 256])\n"
     ]
    }
   ],
   "source": [
    "print(X.shape) # batch_size=2，num_step=5\n",
    "print(num_hiddens)\n",
    "print(vocab_size)\n",
    "state = init_rnn_state(X.shape[0], num_hiddens, device)\n",
    "inputs = to_onehot(X.to(device), vocab_size)\n",
    "params = get_params()\n",
    "outputs, state_new = rnn(inputs, state, params) # 前向计算\n",
    "print(len(inputs), inputs[0].shape) # 列表，num_step；(batch_size,vocab_size)\n",
    "print(len(outputs), outputs[0].shape) # 各个时间步的输出\n",
    "print(len(state), state[0].shape) # 元组，1；(batch_size,num_hiddens)\n",
    "print(len(state_new), state_new[0].shape) # 新的状态"
   ]
  },
  {
   "cell_type": "markdown",
   "metadata": {},
   "source": [
    "## 6.4.4定义预测函数"
   ]
  },
  {
   "cell_type": "code",
   "execution_count": 8,
   "metadata": {},
   "outputs": [],
   "source": [
    "def predict_rnn(prefix, num_chars, rnn, params, init_rnn_state,\n",
    "                num_hiddens, vocab_size, device, idx_to_char, char_to_idx):\n",
    "    '''\n",
    "    给定前缀prefix，预测接下来的num_chars个字符\n",
    "    思路：处理prefix，H记录prefix的序列信息，处理prefix最后一个字符时\n",
    "    已经对下一字符进行了预测，所以可以用预测的字符作为下一时刻的输入，\n",
    "    重复，直至模型预测出num_chars个字符\n",
    "    \n",
    "    '''\n",
    "    state = init_rnn_state(1, num_hiddens, device)\n",
    "    output = [char_to_idx[prefix[0]]]   # output记录prefix+预测的num_chars个字符\n",
    "    for t in range(num_chars + len(prefix) - 1):\n",
    "        # 将上一时间步的输出作为当前时间步的输入，构造1*1的Tensor表示一个时间步\n",
    "        # 调用to_onehot，得到长度为1的列表，元素形状(1，vocab_size)\n",
    "        X = to_onehot(torch.tensor([[output[-1]]], device=device), vocab_size) \n",
    "        # 计算输出和更新隐藏状态，Y：长度为1的列表\n",
    "        (Y, state) = rnn(X, state, params)\n",
    "        # 下一个时间步的输入是prefix里的字符或当前的最佳预测字符\n",
    "        if t < len(prefix) - 1:\n",
    "            output.append(char_to_idx[prefix[t + 1]])\n",
    "        else:\n",
    "            output.append(Y[0].argmax(dim=1).item()) # 预测字符的索引\n",
    "    return ''.join([idx_to_char[i] for i in output])"
   ]
  },
  {
   "cell_type": "code",
   "execution_count": 9,
   "metadata": {},
   "outputs": [
    {
     "data": {
      "text/plain": [
       "'分开感己烧绕灌晰草透拳提'"
      ]
     },
     "execution_count": 9,
     "metadata": {},
     "output_type": "execute_result"
    }
   ],
   "source": [
    "predict_rnn('分开', 10, rnn, params, init_rnn_state, num_hiddens, vocab_size,\n",
    "            device, idx_to_char, char_to_idx)"
   ]
  },
  {
   "cell_type": "markdown",
   "metadata": {},
   "source": [
    "## 6.4.5裁剪梯度"
   ]
  },
  {
   "cell_type": "code",
   "execution_count": 10,
   "metadata": {},
   "outputs": [],
   "source": [
    "def grad_clipping(params, theta, device):\n",
    "    '''\n",
    "    梯度裁剪，裁剪后的梯度不大于theta\n",
    "    @params：模型参数\n",
    "    @theta：预设阈值\n",
    "    @device：设备\n",
    "    '''\n",
    "    norm = torch.tensor([0.0], device=device)\n",
    "    for param in params:\n",
    "        norm += (param.grad.data ** 2).sum() # 记录梯度的L2范数\n",
    "    norm = norm.sqrt().item()\n",
    "    if norm > theta:\n",
    "        for param in params:\n",
    "            param.grad.data *= (theta / norm)"
   ]
  },
  {
   "cell_type": "markdown",
   "metadata": {},
   "source": [
    "## 6.4.6困惑度"
   ]
  },
  {
   "cell_type": "markdown",
   "metadata": {},
   "source": [
    "## 6.4.7定义模型训练函数"
   ]
  },
  {
   "cell_type": "code",
   "execution_count": 11,
   "metadata": {},
   "outputs": [],
   "source": [
    "def train_and_predict_rnn(rnn, get_params, init_rnn_state, num_hiddens,\n",
    "                          vocab_size, device, corpus_indices, idx_to_char,\n",
    "                          char_to_idx, is_random_iter, num_epochs, num_steps,\n",
    "                          lr, clipping_theta, batch_size, pred_period,\n",
    "                          pred_len, prefixes):\n",
    "    if is_random_iter:\n",
    "        data_iter_fn = d2l.data_iter_random\n",
    "    else:\n",
    "        data_iter_fn = d2l.data_iter_consecutive\n",
    "    params = get_params()\n",
    "    loss = nn.CrossEntropyLoss()\n",
    "\n",
    "    for epoch in range(num_epochs):\n",
    "        if not is_random_iter:  # 如使用相邻采样，在epoch开始时初始化隐藏状态\n",
    "        # 相邻采样弊端：训练过程中，同一个epoch，随着batch的增大，损失函数关于隐藏变量的梯度传播得更远，计算开销也大\n",
    "            state = init_rnn_state(batch_size, num_hiddens, device)\n",
    "        l_sum, n, start = 0.0, 0, time.time()\n",
    "        data_iter = data_iter_fn(corpus_indices, batch_size, num_steps, device)\n",
    "        for X, Y in data_iter:\n",
    "            if is_random_iter:  # 如使用随机采样，在每个小批量更新前初始化隐藏状态\n",
    "                state = init_rnn_state(batch_size, num_hiddens, device)\n",
    "            else:  \n",
    "                # 否则需要使用detach函数从计算图分离隐藏状态，这是为了\n",
    "                # 使模型参数的梯度计算只依赖一次迭代读取的小批量序列（防止\n",
    "                # 梯度计算开销过大）\n",
    "                for s in state:\n",
    "                    s.detach_()\n",
    "            # inputs是num_steps个形状为(batch_size, vocab_size)的矩阵\n",
    "            inputs = to_onehot(X, vocab_size)\n",
    "            # outputs有num_steps个形状为(batch_size, vocab_size)的矩阵\n",
    "            (outputs, state) = rnn(inputs, state, params)\n",
    "            # 拼接之后形状为(num_steps * batch_size, vocab_size)\n",
    "            outputs = torch.cat(outputs, dim=0)\n",
    "            # y的形状是(batch_size, num_steps)，转置后再变成长度为\n",
    "            # batch*num_steps的向量，这样跟输出的行一一对应\n",
    "            y = torch.flatten(Y.T)\n",
    "            # 使用交叉熵损失计算平均分类误差\n",
    "            l = loss(outputs, y.long())\n",
    "            \n",
    "            # 梯度清零\n",
    "            if params[0].grad is not None: # 如不是第一个batch\n",
    "                for param in params:\n",
    "                    param.grad.data.zero_()\n",
    "            l.backward()\n",
    "            grad_clipping(params, clipping_theta, device)  # 裁剪梯度\n",
    "            d2l.sgd(params, lr, 1)  # 因为误差已经取过均值，梯度不用再做平均\n",
    "            l_sum += l.item() * y.shape[0]\n",
    "            n += y.shape[0]\n",
    "\n",
    "        if (epoch + 1) % pred_period == 0:\n",
    "            print('epoch %d, perplexity %f, time %.2f sec' % (\n",
    "                epoch + 1, math.exp(l_sum / n), time.time() - start))\n",
    "            for prefix in prefixes:\n",
    "                print(' -', predict_rnn(prefix, pred_len, rnn, params, init_rnn_state,\n",
    "                    num_hiddens, vocab_size, device, idx_to_char, char_to_idx))"
   ]
  },
  {
   "cell_type": "markdown",
   "metadata": {},
   "source": [
    "## 6.4.8训练模型并创作歌词"
   ]
  },
  {
   "cell_type": "code",
   "execution_count": 12,
   "metadata": {},
   "outputs": [],
   "source": [
    "num_epochs, num_steps, batch_size, lr, clipping_theta = 250, 35, 32, 1e2, 1e-2\n",
    "pred_period, pred_len, prefixes = 50, 50, ['分开', '不分开']"
   ]
  },
  {
   "cell_type": "code",
   "execution_count": null,
   "metadata": {},
   "outputs": [
    {
     "name": "stdout",
     "output_type": "stream",
     "text": [
      "epoch 50, perplexity 72.282801, time 1.14 sec\n",
      " - 分开 我想要再想 我不要再想 我不要再想 我不要再想 我不要再想 我不要再想 我不要再想 我不要再想 我\n",
      " - 不分开  一底我 别我的让我疯狂的可爱女人 坏坏的让我疯狂的可爱女人 坏坏的让我疯狂的可爱女人 坏坏的让我\n",
      "epoch 100, perplexity 10.075586, time 1.13 sec\n",
      " - 分开 一场在 三步四 一九四步三在日步我 泪不休 语沉默 娘子却人在江日等我 泪不休 语沉默 娘子却人在\n",
      " - 不分开只 我想要再想 我不能再想 我不 我不 我不要再想你 不知不觉 你已经离开我 不知不觉 我已好这节活\n",
      "epoch 150, perplexity 2.848928, time 1.15 sec\n",
      " - 分开 一只两停留 谁底它停前的 为什么我女朋友场外加油 你却还让我出糗 可小就耳濡目染 什么刀枪跟棍棒 \n",
      " - 不分开吗 我不能再  我的脚我 我是你烦前 我将往事抽离 如果我遇见你是一场悲剧 我可以让生命就你 不小太\n"
     ]
    }
   ],
   "source": [
    "# 随机采样\n",
    "train_and_predict_rnn(rnn, get_params, init_rnn_state, num_hiddens,\n",
    "                      vocab_size, device, corpus_indices, idx_to_char,\n",
    "                      char_to_idx, True, num_epochs, num_steps, lr,\n",
    "                      clipping_theta, batch_size, pred_period, pred_len,\n",
    "                      prefixes)"
   ]
  },
  {
   "cell_type": "code",
   "execution_count": null,
   "metadata": {},
   "outputs": [],
   "source": [
    "# 相邻采样\n",
    "train_and_predict_rnn(rnn, get_params, init_rnn_state, num_hiddens,\n",
    "                      vocab_size, device, corpus_indices, idx_to_char,\n",
    "                      char_to_idx, False, num_epochs, num_steps, lr,\n",
    "                      clipping_theta, batch_size, pred_period, pred_len,\n",
    "                      prefixes)"
   ]
  },
  {
   "cell_type": "code",
   "execution_count": null,
   "metadata": {},
   "outputs": [],
   "source": []
  }
 ],
 "metadata": {
  "kernelspec": {
   "display_name": "Python 3",
   "language": "python",
   "name": "python3"
  },
  "language_info": {
   "codemirror_mode": {
    "name": "ipython",
    "version": 3
   },
   "file_extension": ".py",
   "mimetype": "text/x-python",
   "name": "python",
   "nbconvert_exporter": "python",
   "pygments_lexer": "ipython3",
   "version": "3.7.3"
  }
 },
 "nbformat": 4,
 "nbformat_minor": 2
}
